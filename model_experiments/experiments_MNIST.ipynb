{
 "cells": [
  {
   "cell_type": "code",
   "execution_count": 3,
   "metadata": {},
   "outputs": [
    {
     "name": "stdout",
     "output_type": "stream",
     "text": [
      "Tensorflow version: 1.14.0\n"
     ]
    }
   ],
   "source": [
    "import tensorflow as tf\n",
    "\n",
    "print(f\"Tensorflow version: {tf.__version__}\")"
   ]
  },
  {
   "cell_type": "code",
   "execution_count": 3,
   "metadata": {},
   "outputs": [],
   "source": [
    "def load_data():\n",
    "    mnist_dataset = tf.keras.datasets.mnist\n",
    "    (x_train, y_train), (x_test, y_test) = mnist_dataset.load_data()\n",
    "    x_train, x_test = x_train / 255.0, x_test / 255.0\n",
    "    return x_train, y_train, x_test, y_test"
   ]
  },
  {
   "cell_type": "code",
   "execution_count": 4,
   "metadata": {},
   "outputs": [],
   "source": [
    "def build_model():\n",
    "    global model\n",
    "    model = tf.keras.models.Sequential([\n",
    "        tf.keras.layers.Flatten(input_shape=(28, 28)),\n",
    "        tf.keras.layers.Dense(128, activation='relu'),\n",
    "        tf.keras.layers.Dropout(0.2),\n",
    "        tf.keras.layers.Dense(10, activation='softmax')\n",
    "    ])\n",
    "\n",
    "    model.compile(optimizer='adam',\n",
    "                  loss='sparse_categorical_crossentropy',\n",
    "                  metrics=[\"accuracy\"])"
   ]
  },
  {
   "cell_type": "code",
   "execution_count": 5,
   "metadata": {},
   "outputs": [],
   "source": [
    "def train_model(x, y, epochs: int):\n",
    "    model.fit(x, y, epochs=epochs)"
   ]
  },
  {
   "cell_type": "code",
   "execution_count": 8,
   "metadata": {},
   "outputs": [],
   "source": [
    "def evaluate_model(x_test, y_test):\n",
    "    loss, acc = model.evaluate(x_test, y_test, verbose=0)\n",
    "    print(f\"loss: {loss}, accuracy: {acc}\")"
   ]
  },
  {
   "cell_type": "code",
   "execution_count": 7,
   "metadata": {},
   "outputs": [],
   "source": [
    "epochs = 10"
   ]
  },
  {
   "cell_type": "code",
   "execution_count": 7,
   "metadata": {},
   "outputs": [],
   "source": [
    "x_train, y_train, x_test, y_test = load_data()"
   ]
  },
  {
   "cell_type": "code",
   "execution_count": 7,
   "metadata": {},
   "outputs": [],
   "source": [
    "build_model()"
   ]
  },
  {
   "cell_type": "code",
   "execution_count": 7,
   "metadata": {},
   "outputs": [],
   "source": [
    "train_model(x_train, y_train, epochs)"
   ]
  },
  {
   "cell_type": "code",
   "execution_count": 9,
   "metadata": {},
   "outputs": [
    {
     "name": "stdout",
     "output_type": "stream",
     "text": [
      "loss: 0.06464304909884232, accuracy: 0.9807999730110168\n"
     ]
    }
   ],
   "source": [
    "evaluate_model(x_test, y_test)"
   ]
  },
  {
   "cell_type": "code",
   "execution_count": 12,
   "metadata": {},
   "outputs": [],
   "source": [
    "class DigitRecognizer:\n",
    "    def __init__(self):\n",
    "        self._model = self._build_model()\n",
    "        self._is_model_trained = False\n",
    "\n",
    "    def _build_model(self):\n",
    "        model = tf.keras.models.Sequential([\n",
    "            tf.keras.layers.Flatten(input_shape=(28, 28)),\n",
    "            tf.keras.layers.Dense(128, activation='relu'),\n",
    "            tf.keras.layers.Dropout(0.2),\n",
    "            tf.keras.layers.Dense(10, activation='softmax')\n",
    "        ])\n",
    "\n",
    "        model.compile(optimizer='adam',\n",
    "                      loss='sparse_categorical_crossentropy',\n",
    "                      metrics=[\"accuracy\"])\n",
    "        \n",
    "        model.summary()\n",
    "        \n",
    "        return model\n",
    "    def _load_data(self):\n",
    "        mnist_dataset = tf.keras.datasets.mnist\n",
    "        (x_train, y_train), (x_test, y_test) = mnist_dataset.load_data()\n",
    "        x_train, x_test = x_train / 255.0, x_test / 255.0\n",
    "        return x_train, y_train, x_test, y_test\n",
    "\n",
    "    def train_model(self, epochs, isSaved = False):\n",
    "        x, y, _, _ = self._load_data()\n",
    "        self._model.fit(x, y, epochs=epochs)\n",
    "        self._is_model_trained = True\n",
    "\n",
    "    def evaluate_model(self):\n",
    "        if not self._is_model_trained:\n",
    "            print(\"Model wasn't trained!!! Either train model or load stored weights!!!\")\n",
    "            return\n",
    "\n",
    "        _, _, x_test, y_test = self._load_data()\n",
    "        loss, acc = self._model.evaluate(x_test, y_test, verbose=0)\n",
    "        print(f\"loss: {loss}, accuracy: {acc}\")\n",
    "\n",
    "    def save_weights(self, filename='../model/digit_recognizer_weights.hdf5'):\n",
    "        if not self._is_model_trained:\n",
    "            print(\"I can't save model since it wasn't trained!\")\n",
    "            return\n",
    "        self._model.save_weights(filename)\n",
    "        print(f\"Model was saved in {filename}\")\n",
    "    \n",
    "    def load_weights(self, filename='../model/digit_recognizer_weights.hdf5'):\n",
    "        self._model.load_weigths(filename)\n",
    "        self._is_model_trained = True\n",
    "        print(f\"Weights for model were loaded from: {filename}\")"
   ]
  },
  {
   "cell_type": "code",
   "execution_count": 14,
   "metadata": {},
   "outputs": [
    {
     "name": "stdout",
     "output_type": "stream",
     "text": [
      "Model: \"sequential_2\"\n",
      "_________________________________________________________________\n",
      "Layer (type)                 Output Shape              Param #   \n",
      "=================================================================\n",
      "flatten_2 (Flatten)          (None, 784)               0         \n",
      "_________________________________________________________________\n",
      "dense_4 (Dense)              (None, 128)               100480    \n",
      "_________________________________________________________________\n",
      "dropout_2 (Dropout)          (None, 128)               0         \n",
      "_________________________________________________________________\n",
      "dense_5 (Dense)              (None, 10)                1290      \n",
      "=================================================================\n",
      "Total params: 101,770\n",
      "Trainable params: 101,770\n",
      "Non-trainable params: 0\n",
      "_________________________________________________________________\n"
     ]
    }
   ],
   "source": [
    "recognizer = DigitRecognizer()"
   ]
  },
  {
   "cell_type": "code",
   "execution_count": 15,
   "metadata": {},
   "outputs": [
    {
     "name": "stdout",
     "output_type": "stream",
     "text": [
      "Epoch 1/10\n",
      "60000/60000 [==============================] - 9s 150us/sample - loss: 0.2976 - acc: 0.9140\n",
      "Epoch 2/10\n",
      "60000/60000 [==============================] - 7s 124us/sample - loss: 0.1420 - acc: 0.9574\n",
      "Epoch 3/10\n",
      "60000/60000 [==============================] - 8s 135us/sample - loss: 0.1058 - acc: 0.9678\n",
      "Epoch 4/10\n",
      "60000/60000 [==============================] - 7s 115us/sample - loss: 0.0873 - acc: 0.9728\n",
      "Epoch 5/10\n",
      "60000/60000 [==============================] - 7s 113us/sample - loss: 0.0748 - acc: 0.9766\n",
      "Epoch 6/10\n",
      "60000/60000 [==============================] - 7s 117us/sample - loss: 0.0663 - acc: 0.9786\n",
      "Epoch 7/10\n",
      "60000/60000 [==============================] - 6s 104us/sample - loss: 0.0565 - acc: 0.9818\n",
      "Epoch 8/10\n",
      "60000/60000 [==============================] - 8s 138us/sample - loss: 0.0533 - acc: 0.9827\n",
      "Epoch 9/10\n",
      "60000/60000 [==============================] - 6s 107us/sample - loss: 0.0470 - acc: 0.9849\n",
      "Epoch 10/10\n",
      "60000/60000 [==============================] - 7s 109us/sample - loss: 0.0451 - acc: 0.9851\n"
     ]
    }
   ],
   "source": [
    "recognizer.train_model(10, True)"
   ]
  },
  {
   "cell_type": "code",
   "execution_count": 16,
   "metadata": {},
   "outputs": [
    {
     "name": "stdout",
     "output_type": "stream",
     "text": [
      "loss: 0.07481308678376954, accuracy: 0.979200005531311\n"
     ]
    }
   ],
   "source": [
    "recognizer.evaluate_model()"
   ]
  },
  {
   "cell_type": "code",
   "execution_count": 17,
   "metadata": {},
   "outputs": [
    {
     "name": "stdout",
     "output_type": "stream",
     "text": [
      "Model was saved in ../model/digit_recognizer_weights.hdf5\n"
     ]
    }
   ],
   "source": [
    "recognizer.save_weights()"
   ]
  },
  {
   "cell_type": "code",
   "execution_count": null,
   "metadata": {},
   "outputs": [],
   "source": []
  }
 ],
 "metadata": {
  "kernelspec": {
   "display_name": "Python 3",
   "language": "python",
   "name": "python3"
  },
  "language_info": {
   "codemirror_mode": {
    "name": "ipython",
    "version": 3
   },
   "file_extension": ".py",
   "mimetype": "text/x-python",
   "name": "python",
   "nbconvert_exporter": "python",
   "pygments_lexer": "ipython3",
   "version": "3.7.1"
  }
 },
 "nbformat": 4,
 "nbformat_minor": 2
}
